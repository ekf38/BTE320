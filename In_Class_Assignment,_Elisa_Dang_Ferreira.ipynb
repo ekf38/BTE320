{
  "nbformat": 4,
  "nbformat_minor": 0,
  "metadata": {
    "colab": {
      "provenance": [],
      "authorship_tag": "ABX9TyPtKztIhEzueaifabn6Yz7U",
      "include_colab_link": true
    },
    "kernelspec": {
      "name": "python3",
      "display_name": "Python 3"
    },
    "language_info": {
      "name": "python"
    }
  },
  "cells": [
    {
      "cell_type": "markdown",
      "metadata": {
        "id": "view-in-github",
        "colab_type": "text"
      },
      "source": [
        "<a href=\"https://colab.research.google.com/github/ekf38/BTE320/blob/main/In_Class_Assignment%2C_Elisa_Dang_Ferreira.ipynb\" target=\"_parent\"><img src=\"https://colab.research.google.com/assets/colab-badge.svg\" alt=\"Open In Colab\"/></a>"
      ]
    },
    {
      "cell_type": "markdown",
      "source": [
        "9/3/2025 In-Class Assignment"
      ],
      "metadata": {
        "id": "RfzXVN7vlyLx"
      }
    },
    {
      "cell_type": "code",
      "source": [
        "# Inputs: sales, cogs_pct, tax rate\n",
        "sales = input(\"Enter Sales ($): \")\n",
        "sales = float(sales)\n",
        "\n",
        "cogs_pct = input(\"Enter Cost of Goods Sold (%): \")\n",
        "cogs_pct = float(cogs_pct)\n",
        "\n",
        "taxRate = input(\"Enter Tax Rate (%): \")\n",
        "taxRate = float(taxRate)\n",
        "\n",
        "# Processes: calculate actual cost of goods sold\n",
        "cogs = sales * cogs_pct / 100\n",
        "grossProfit = sales - cogs\n",
        "taxes = grossProfit * taxRate / 100\n",
        "netIncome = grossProfit - taxes\n",
        "\n",
        "#Outputs: display cogs and grossProfit\n",
        "\n",
        "print(f\"Sales: ${sales}\")\n",
        "print(f\"Cost of Goods Sold: ${cogs}\")\n",
        "print(f\"Gross Profit: ${grossProfit}\")\n",
        "print(f\"Taxes: ${taxes}\")\n",
        "print(f\"Net Income: ${netIncome}\")"
      ],
      "metadata": {
        "colab": {
          "base_uri": "https://localhost:8080/"
        },
        "id": "3jaD0bUAjiO5",
        "outputId": "afaa20ad-d959-47ff-e1b3-aa60f1568ae2"
      },
      "execution_count": null,
      "outputs": [
        {
          "output_type": "stream",
          "name": "stdout",
          "text": [
            "Enter Sales ($): 12000\n",
            "Enter Cost of Goods Sold (%): 40\n",
            "Enter Tax Rate (%): 30\n",
            "Sales: $12000.0\n",
            "Cost of Goods Sold: $4800.0\n",
            "Gross Profit: $7200.0\n",
            "Taxes: $2160.0\n",
            "Net Income: $5040.0\n"
          ]
        }
      ]
    },
    {
      "cell_type": "markdown",
      "source": [
        "9/8/2025 In-Class Assignment"
      ],
      "metadata": {
        "id": "BjJRLTOiImUP"
      }
    },
    {
      "cell_type": "code",
      "source": [
        "# Inputs: annual demand, reorder cost, holding cost\n",
        "annualDemand = int(input(\"Enter annual demand (units/year): \"))\n",
        "reorderCost = float(input(\"Enter reorder cost ($/order): \"))\n",
        "holdingCost = float(input(\"Enter holding cost ($/unit/year): \"))\n",
        "\n",
        "# Processes: calculate economic order quantity (EOQ)\n",
        "EOQ = (2 * annualDemand * reorderCost / holdingCost) ** 0.5\n",
        "\n",
        "#Outputs: display EOQ\n",
        "print(f\"Economic Order Quantity: {EOQ} units\")"
      ],
      "metadata": {
        "colab": {
          "base_uri": "https://localhost:8080/"
        },
        "id": "1OobWM2BIqcX",
        "outputId": "06238767-494e-4456-d976-579264720c76"
      },
      "execution_count": 9,
      "outputs": [
        {
          "output_type": "stream",
          "name": "stdout",
          "text": [
            "Enter annual demand (units/year): 100\n",
            "Enter reorder cost ($/order): 1.5\n",
            "Enter holding cost ($/unit/year): 3\n",
            "Economic Order Quantity: 10.0 units\n"
          ]
        }
      ]
    }
  ]
}
{
  "nbformat": 4,
  "nbformat_minor": 0,
  "metadata": {
    "colab": {
      "provenance": [],
      "authorship_tag": "ABX9TyMFt9b7gkqDJj25IsozK4O4",
      "include_colab_link": true
    },
    "kernelspec": {
      "name": "python3",
      "display_name": "Python 3"
    },
    "language_info": {
      "name": "python"
    }
  },
  "cells": [
    {
      "cell_type": "markdown",
      "metadata": {
        "id": "view-in-github",
        "colab_type": "text"
      },
      "source": [
        "<a href=\"https://colab.research.google.com/github/ekf38/BTE320/blob/main/In_Class_Assignment%2C_Elisa_Dang_Ferreira.ipynb\" target=\"_parent\"><img src=\"https://colab.research.google.com/assets/colab-badge.svg\" alt=\"Open In Colab\"/></a>"
      ]
    },
    {
      "cell_type": "markdown",
      "source": [
        "9/3/2025 In-Class Assignment"
      ],
      "metadata": {
        "id": "RfzXVN7vlyLx"
      }
    },
    {
      "cell_type": "code",
      "source": [
        "# Inputs: sales, cogs_pct, tax rate\n",
        "sales = input(\"Enter Sales ($): \")\n",
        "sales = float(sales)\n",
        "\n",
        "cogs_pct = input(\"Enter Cost of Goods Sold (%): \")\n",
        "cogs_pct = float(cogs_pct)\n",
        "\n",
        "taxRate = input(\"Enter Tax Rate (%): \")\n",
        "taxRate = float(taxRate)\n",
        "\n",
        "# Processes: calculate actual cost of goods sold\n",
        "cogs = sales * cogs_pct / 100\n",
        "grossProfit = sales - cogs\n",
        "taxes = grossProfit * taxRate / 100\n",
        "netIncome = grossProfit - taxes\n",
        "\n",
        "#Outputs: display cogs and grossProfit\n",
        "\n",
        "print(f\"Sales: ${sales}\")\n",
        "print(f\"Cost of Goods Sold: ${cogs}\")\n",
        "print(f\"Gross Profit: ${grossProfit}\")\n",
        "print(f\"Taxes: ${taxes}\")\n",
        "print(f\"Net Income: ${netIncome}\")"
      ],
      "metadata": {
        "colab": {
          "base_uri": "https://localhost:8080/"
        },
        "id": "3jaD0bUAjiO5",
        "outputId": "afaa20ad-d959-47ff-e1b3-aa60f1568ae2"
      },
      "execution_count": null,
      "outputs": [
        {
          "output_type": "stream",
          "name": "stdout",
          "text": [
            "Enter Sales ($): 12000\n",
            "Enter Cost of Goods Sold (%): 40\n",
            "Enter Tax Rate (%): 30\n",
            "Sales: $12000.0\n",
            "Cost of Goods Sold: $4800.0\n",
            "Gross Profit: $7200.0\n",
            "Taxes: $2160.0\n",
            "Net Income: $5040.0\n"
          ]
        }
      ]
    },
    {
      "cell_type": "markdown",
      "source": [
        "9/8/2025 In-Class Assignment"
      ],
      "metadata": {
        "id": "BjJRLTOiImUP"
      }
    },
    {
      "cell_type": "code",
      "source": [
        "# Inputs: annual demand, reorder cost, holding cost\n",
        "annualDemand = int(input(\"Enter annual demand (units/year): \"))\n",
        "reorderCost = float(input(\"Enter reorder cost ($/order): \"))\n",
        "holdingCost = float(input(\"Enter holding cost ($/unit/year): \"))\n",
        "\n",
        "# Processes: calculate economic order quantity (EOQ)\n",
        "EOQ = (2 * annualDemand * reorderCost / holdingCost) ** 0.5\n",
        "\n",
        "#Outputs: display EOQ\n",
        "print(f\"Economic Order Quantity: {EOQ} units\")"
      ],
      "metadata": {
        "colab": {
          "base_uri": "https://localhost:8080/"
        },
        "id": "1OobWM2BIqcX",
        "outputId": "06238767-494e-4456-d976-579264720c76"
      },
      "execution_count": null,
      "outputs": [
        {
          "output_type": "stream",
          "name": "stdout",
          "text": [
            "Enter annual demand (units/year): 100\n",
            "Enter reorder cost ($/order): 1.5\n",
            "Enter holding cost ($/unit/year): 3\n",
            "Economic Order Quantity: 10.0 units\n"
          ]
        }
      ]
    },
    {
      "cell_type": "markdown",
      "source": [
        "9/15/2025 In-Class Assignment"
      ],
      "metadata": {
        "id": "l2XIKhXNL0ci"
      }
    },
    {
      "cell_type": "code",
      "source": [
        "# Inputs: 2 numbers and mathematical operator\n",
        "number1 = float(input(\"Enter your first number: \"))\n",
        "number2 = float(input(\"Enter your second number: \"))\n",
        "symbol = input(\"Enter your mathematical operator (+, -, *, /, //, **, %):\")\n",
        "\n",
        "# Processes:\n",
        "if symbol == \"+\":\n",
        "    res = number1 + number2\n",
        "elif symbol == \"-\":\n",
        "    res = number1 - number2\n",
        "elif symbol == \"*\":\n",
        "    res = number1 * number2\n",
        "elif symbol == \"/\":\n",
        "    res = number1 / number2\n",
        "elif symbol == \"//\":\n",
        "    res = number1 // number2\n",
        "elif symbol == \"**\":\n",
        "    res = number1 ** number2\n",
        "elif symbol == \"%\":\n",
        "    res = number1 % number2\n",
        "else:\n",
        "    print(\"Invalid operator\")\n",
        "\n",
        "#Output:\n",
        "print(f\"Result: = {res}\")"
      ],
      "metadata": {
        "colab": {
          "base_uri": "https://localhost:8080/"
        },
        "id": "bR03pPzKL3Qw",
        "outputId": "b19ae2ea-3319-4c18-f0a7-3fe24834c08e"
      },
      "execution_count": null,
      "outputs": [
        {
          "output_type": "stream",
          "name": "stdout",
          "text": [
            "Enter your first number: 5\n",
            "Enter your second number: 2\n",
            "Enter your mathematical operator (+, -, *, /, //, **, %):+\n",
            "result: = 7.0\n"
          ]
        }
      ]
    },
    {
      "cell_type": "markdown",
      "source": [
        "9/17/2025 In-Class Assignment"
      ],
      "metadata": {
        "id": "6-3BayLLgXDG"
      }
    },
    {
      "cell_type": "code",
      "source": [
        "print(\"Hours   | Fee\")\n",
        "print(\"------------\")\n",
        "for hour in range(1, 9, 1):\n",
        "  fee = 5 + 2.5 * hour\n",
        "  if fee < 10:\n",
        "    fee = 10.0\n",
        "  elif fee > 20:\n",
        "    fee = 20.0\n",
        "  print(f\"{hour}\\t|{fee}\")"
      ],
      "metadata": {
        "colab": {
          "base_uri": "https://localhost:8080/"
        },
        "id": "BEYdHxgsjb1I",
        "outputId": "68ca5ff3-35e5-4773-f9e7-5e520a47e17c"
      },
      "execution_count": 33,
      "outputs": [
        {
          "output_type": "stream",
          "name": "stdout",
          "text": [
            "Hours   | Fee\n",
            "------------\n",
            "1\t|10.0\n",
            "2\t|10.0\n",
            "3\t|12.5\n",
            "4\t|15.0\n",
            "5\t|17.5\n",
            "6\t|20.0\n",
            "7\t|20.0\n",
            "8\t|20.0\n"
          ]
        }
      ]
    }
  ]
}
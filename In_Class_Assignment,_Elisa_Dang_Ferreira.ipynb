{
  "nbformat": 4,
  "nbformat_minor": 0,
  "metadata": {
    "colab": {
      "provenance": [],
      "authorship_tag": "ABX9TyOFHRhTWHTd8MHHhFNTgtZl",
      "include_colab_link": true
    },
    "kernelspec": {
      "name": "python3",
      "display_name": "Python 3"
    },
    "language_info": {
      "name": "python"
    }
  },
  "cells": [
    {
      "cell_type": "markdown",
      "metadata": {
        "id": "view-in-github",
        "colab_type": "text"
      },
      "source": [
        "<a href=\"https://colab.research.google.com/github/ekf38/BTE320/blob/main/In_Class_Assignment%2C_Elisa_Dang_Ferreira.ipynb\" target=\"_parent\"><img src=\"https://colab.research.google.com/assets/colab-badge.svg\" alt=\"Open In Colab\"/></a>"
      ]
    },
    {
      "cell_type": "markdown",
      "source": [
        "9/3/2025 In-Class Assignment: Income Statement"
      ],
      "metadata": {
        "id": "RfzXVN7vlyLx"
      }
    },
    {
      "cell_type": "code",
      "source": [
        "# Inputs: sales, cogs_pct, tax rate\n",
        "sales = input(\"Enter Sales ($): \")\n",
        "sales = float(sales)\n",
        "\n",
        "cogs_pct = input(\"Enter Cost of Goods Sold (%): \")\n",
        "cogs_pct = float(cogs_pct)\n",
        "\n",
        "taxRate = input(\"Enter Tax Rate (%): \")\n",
        "taxRate = float(taxRate)\n",
        "\n",
        "# Processes: calculate actual cost of goods sold\n",
        "cogs = sales * cogs_pct / 100\n",
        "grossProfit = sales - cogs\n",
        "taxes = grossProfit * taxRate / 100\n",
        "netIncome = grossProfit - taxes\n",
        "\n",
        "#Outputs: display cogs and grossProfit\n",
        "\n",
        "print(f\"Sales: ${sales}\")\n",
        "print(f\"Cost of Goods Sold: ${cogs}\")\n",
        "print(f\"Gross Profit: ${grossProfit}\")\n",
        "print(f\"Taxes: ${taxes}\")\n",
        "print(f\"Net Income: ${netIncome}\")"
      ],
      "metadata": {
        "colab": {
          "base_uri": "https://localhost:8080/"
        },
        "id": "3jaD0bUAjiO5",
        "outputId": "afaa20ad-d959-47ff-e1b3-aa60f1568ae2"
      },
      "execution_count": null,
      "outputs": [
        {
          "output_type": "stream",
          "name": "stdout",
          "text": [
            "Enter Sales ($): 12000\n",
            "Enter Cost of Goods Sold (%): 40\n",
            "Enter Tax Rate (%): 30\n",
            "Sales: $12000.0\n",
            "Cost of Goods Sold: $4800.0\n",
            "Gross Profit: $7200.0\n",
            "Taxes: $2160.0\n",
            "Net Income: $5040.0\n"
          ]
        }
      ]
    },
    {
      "cell_type": "markdown",
      "source": [
        "9/8/2025 In-Class Assignment: Simple Income Statement Calculation\n",
        "\n"
      ],
      "metadata": {
        "id": "BjJRLTOiImUP"
      }
    },
    {
      "cell_type": "code",
      "source": [
        "# Inputs: annual demand, reorder cost, holding cost\n",
        "annualDemand = int(input(\"Enter annual demand (units/year): \"))\n",
        "reorderCost = float(input(\"Enter reorder cost ($/order): \"))\n",
        "holdingCost = float(input(\"Enter holding cost ($/unit/year): \"))\n",
        "\n",
        "# Processes: calculate economic order quantity (EOQ)\n",
        "EOQ = (2 * annualDemand * reorderCost / holdingCost) ** 0.5\n",
        "\n",
        "#Outputs: display EOQ\n",
        "print(f\"Economic Order Quantity: {EOQ} units\")"
      ],
      "metadata": {
        "colab": {
          "base_uri": "https://localhost:8080/"
        },
        "id": "1OobWM2BIqcX",
        "outputId": "06238767-494e-4456-d976-579264720c76"
      },
      "execution_count": null,
      "outputs": [
        {
          "output_type": "stream",
          "name": "stdout",
          "text": [
            "Enter annual demand (units/year): 100\n",
            "Enter reorder cost ($/order): 1.5\n",
            "Enter holding cost ($/unit/year): 3\n",
            "Economic Order Quantity: 10.0 units\n"
          ]
        }
      ]
    },
    {
      "cell_type": "markdown",
      "source": [
        "9/15/2025 In-Class Assignment"
      ],
      "metadata": {
        "id": "l2XIKhXNL0ci"
      }
    },
    {
      "cell_type": "code",
      "source": [
        "# Inputs: 2 numbers and mathematical operator\n",
        "number1 = float(input(\"Enter your first number: \"))\n",
        "number2 = float(input(\"Enter your second number: \"))\n",
        "symbol = input(\"Enter your mathematical operator (+, -, *, /, //, **, %):\")\n",
        "\n",
        "# Processes:\n",
        "if symbol == \"+\":\n",
        "    res = number1 + number2\n",
        "elif symbol == \"-\":\n",
        "    res = number1 - number2\n",
        "elif symbol == \"*\":\n",
        "    res = number1 * number2\n",
        "elif symbol == \"/\":\n",
        "    res = number1 / number2\n",
        "elif symbol == \"//\":\n",
        "    res = number1 // number2\n",
        "elif symbol == \"**\":\n",
        "    res = number1 ** number2\n",
        "elif symbol == \"%\":\n",
        "    res = number1 % number2\n",
        "else:\n",
        "    print(\"Invalid operator\")\n",
        "\n",
        "#Output:\n",
        "print(f\"Result: = {res}\")"
      ],
      "metadata": {
        "colab": {
          "base_uri": "https://localhost:8080/"
        },
        "id": "bR03pPzKL3Qw",
        "outputId": "b19ae2ea-3319-4c18-f0a7-3fe24834c08e"
      },
      "execution_count": null,
      "outputs": [
        {
          "output_type": "stream",
          "name": "stdout",
          "text": [
            "Enter your first number: 5\n",
            "Enter your second number: 2\n",
            "Enter your mathematical operator (+, -, *, /, //, **, %):+\n",
            "result: = 7.0\n"
          ]
        }
      ]
    },
    {
      "cell_type": "markdown",
      "source": [
        "9/17/2025 In-Class Assignment"
      ],
      "metadata": {
        "id": "6-3BayLLgXDG"
      }
    },
    {
      "cell_type": "code",
      "source": [
        "print(\"Hours   | Fee\")\n",
        "print(\"------------\")\n",
        "for hour in range(1, 9, 1):\n",
        "  fee = 5 + 2.5 * hour\n",
        "  if fee < 10:\n",
        "    fee = 10.0\n",
        "  elif fee > 20:\n",
        "    fee = 20.0\n",
        "  print(f\"{hour}\\t|{fee}\")"
      ],
      "metadata": {
        "colab": {
          "base_uri": "https://localhost:8080/"
        },
        "id": "BEYdHxgsjb1I",
        "outputId": "68ca5ff3-35e5-4773-f9e7-5e520a47e17c"
      },
      "execution_count": null,
      "outputs": [
        {
          "output_type": "stream",
          "name": "stdout",
          "text": [
            "Hours   | Fee\n",
            "------------\n",
            "1\t|10.0\n",
            "2\t|10.0\n",
            "3\t|12.5\n",
            "4\t|15.0\n",
            "5\t|17.5\n",
            "6\t|20.0\n",
            "7\t|20.0\n",
            "8\t|20.0\n"
          ]
        }
      ]
    },
    {
      "cell_type": "markdown",
      "source": [
        "9/22/2025 In-Class Assignment"
      ],
      "metadata": {
        "id": "gYxNliyUPLt9"
      }
    },
    {
      "cell_type": "code",
      "source": [
        "print(\"Ads|Profit\")\n",
        "print(\"----------\")\n",
        "for ad in range(0, 201, 25):\n",
        "  revenue = 20 * 10 + 10 * 2 * ad ** 0.5\n",
        "  expenses = 200 + ad\n",
        "  profit = revenue - expenses\n",
        "  print(ad, round(profit))"
      ],
      "metadata": {
        "colab": {
          "base_uri": "https://localhost:8080/"
        },
        "id": "plWudsf0PPmC",
        "outputId": "f65e713c-d826-43b6-dd3c-a04a992ff9c9"
      },
      "execution_count": null,
      "outputs": [
        {
          "output_type": "stream",
          "name": "stdout",
          "text": [
            "Ads|Profit\n",
            "----------\n",
            "0 0\n",
            "25 75\n",
            "50 91\n",
            "75 98\n",
            "100 100\n",
            "125 99\n",
            "150 95\n",
            "175 90\n",
            "200 83\n"
          ]
        }
      ]
    },
    {
      "cell_type": "markdown",
      "source": [
        "9/29/2025 In-Class Assignment: Rock-Paper-Scissors using Claude AI\n",
        "\n"
      ],
      "metadata": {
        "id": "tRezOfFpe2C4"
      }
    },
    {
      "cell_type": "code",
      "source": [
        "import random\n",
        "\n",
        "def determine_winner(player, computer):\n",
        "    \"\"\"Determine the winner of a round\"\"\"\n",
        "    if player == computer:\n",
        "        return \"tie\"\n",
        "    elif (player == \"rock\" and computer == \"scissors\") or \\\n",
        "         (player == \"paper\" and computer == \"rock\") or \\\n",
        "         (player == \"scissors\" and computer == \"paper\"):\n",
        "        return \"player\"\n",
        "    else:\n",
        "        return \"computer\"\n",
        "\n",
        "def play_game():\n",
        "    \"\"\"Main game function\"\"\"\n",
        "    print(\"=\" * 50)\n",
        "    print(\"Welcome to Rock-Paper-Scissors!\")\n",
        "    print(\"=\" * 50)\n",
        "\n",
        "    # Score tracking\n",
        "    player_score = 0\n",
        "    computer_score = 0\n",
        "    rounds_played = 0\n",
        "\n",
        "    # Main game loop\n",
        "    play_again = input(\"\\nWould you like to play Rock-Paper-Scissors? (yes/no): \").lower().strip()\n",
        "\n",
        "    while play_again == 'yes' or play_again == 'y':\n",
        "        print(\"\\n\" + \"-\" * 30)\n",
        "        print(f\"Round {rounds_played + 1}\")\n",
        "        print(\"-\" * 30)\n",
        "\n",
        "        # Get player choice\n",
        "        player_choice = \"\"\n",
        "        valid_choices = ['rock', 'paper', 'scissors']\n",
        "\n",
        "        # Keep asking until valid input\n",
        "        while player_choice not in valid_choices:\n",
        "            print(\"\\nChoose your move:\")\n",
        "            print(\"1. Rock\")\n",
        "            print(\"2. Paper\")\n",
        "            print(\"3. Scissors\")\n",
        "            player_input = input(\"Enter your choice (rock/paper/scissors): \").lower().strip()\n",
        "\n",
        "            if player_input in valid_choices:\n",
        "                player_choice = player_input\n",
        "            elif player_input in ['1', 'r']:\n",
        "                player_choice = 'rock'\n",
        "            elif player_input in ['2', 'p']:\n",
        "                player_choice = 'paper'\n",
        "            elif player_input in ['3', 's']:\n",
        "                player_choice = 'scissors'\n",
        "            else:\n",
        "                print(\"Invalid choice! Please try again.\")\n",
        "\n",
        "        # Computer makes random choice\n",
        "        computer_choice = random.choice(['rock', 'paper', 'scissors'])\n",
        "\n",
        "        # Display choices\n",
        "        print(f\"\\nYou chose: {player_choice}\")\n",
        "        print(f\"Computer chose: {computer_choice}\")\n",
        "\n",
        "        # Determine and display winner\n",
        "        result = determine_winner(player_choice, computer_choice)\n",
        "\n",
        "        if result == \"tie\":\n",
        "            print(\"🤝 It's a tie!\")\n",
        "        elif result == \"player\":\n",
        "            print(\"🎉 You win this round!\")\n",
        "            player_score += 1\n",
        "        else:\n",
        "            print(\"💻 Computer wins this round!\")\n",
        "            computer_score += 1\n",
        "\n",
        "        rounds_played += 1\n",
        "\n",
        "        # Display current score\n",
        "        print(f\"\\n📊 Current Score:\")\n",
        "        print(f\"   You: {player_score}\")\n",
        "        print(f\"   Computer: {computer_score}\")\n",
        "        print(f\"   Rounds played: {rounds_played}\")\n",
        "\n",
        "        # Ask if player wants to continue\n",
        "        play_again = input(\"\\nDo you want to play again? (yes/no): \").lower().strip()\n",
        "\n",
        "    # Game over - display final results\n",
        "    print(\"\\n\" + \"=\" * 50)\n",
        "    print(\"Thanks for playing!\")\n",
        "    print(\"=\" * 50)\n",
        "\n",
        "    if rounds_played > 0:\n",
        "        print(f\"\\n📈 Final Statistics:\")\n",
        "        print(f\"   Total rounds: {rounds_played}\")\n",
        "        print(f\"   Your wins: {player_score}\")\n",
        "        print(f\"   Computer wins: {computer_score}\")\n",
        "        print(f\"   Ties: {rounds_played - player_score - computer_score}\")\n",
        "\n",
        "        # Determine overall winner\n",
        "        if player_score > computer_score:\n",
        "            print(\"\\n🏆 Congratulations! You won overall!\")\n",
        "        elif computer_score > player_score:\n",
        "            print(\"\\n💻 Computer won overall. Better luck next time!\")\n",
        "        else:\n",
        "            print(\"\\n🤝 It's an overall tie! Well matched!\")\n",
        "\n",
        "        # Calculate win percentage\n",
        "        if rounds_played > 0:\n",
        "            win_percentage = (player_score / rounds_played) * 100\n",
        "            print(f\"\\n   Your win rate: {win_percentage:.1f}%\")\n",
        "    else:\n",
        "        print(\"\\nMaybe next time!\")\n",
        "\n",
        "# Run the game\n",
        "if __name__ == \"__main__\":\n",
        "    play_game()"
      ],
      "metadata": {
        "id": "pOiTV3kBe37W"
      },
      "execution_count": null,
      "outputs": []
    }
  ]
}